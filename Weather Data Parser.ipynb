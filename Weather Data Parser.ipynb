{
 "cells": [
  {
   "cell_type": "code",
   "execution_count": null,
   "metadata": {},
   "outputs": [],
   "source": [
    "loc = [\n",
    "    'GH/Accra.json',\n",
    "    'AR/Buenos-Aires.json',\n",
    "    'IN/Chennai.json',\n",
    "    'CN/Lengshuijiang.json',\n",
    "    'GB/London.json',\n",
    "    'MX/Mexico_City.json',\n",
    "    'RU/Moscow.json',\n",
    "    'CA/Nanaimo.json',\n",
    "    'ES/Pamplona.json',\n",
    "    'NC/Cary.json',\n",
    "    'zmw:00000.1.78486.json',\n",
    "    'UZ/Tashkent.json',\n",
    "    'GR/Thessaloniki.json',\n",
    "    'PL/Gliwice.json'\n",
    "]"
   ]
  },
  {
   "cell_type": "code",
   "execution_count": null,
   "metadata": {},
   "outputs": [],
   "source": [
    "print(loc)"
   ]
  },
  {
   "cell_type": "code",
   "execution_count": null,
   "metadata": {},
   "outputs": [],
   "source": [
    "import urllib.request, urllib.error, urllib.parse\n",
    "import json\n",
    "import time\n",
    "import csv\n",
    "\n",
    "with open('temp.csv', 'w') as out:\n",
    "    writer = csv.writer(out)\n",
    "    writer.writerow(['City','Min 1','Max 1','Min 2','Max 2','Min 3', 'Max 3', 'Min 4', 'Max 4', 'Min 5','Max 5'])\n",
    "\n",
    "    for i in range(len(loc)):\n",
    "        f = urllib.request.urlopen('http://api.wunderground.com/api/82669d938f04277f/forecast10day/conditions/q/'+loc[i])\n",
    "        json_string = f.read()\n",
    "        parsed_json = json.loads( json_string )\n",
    "        city = parsed_json['current_observation']['display_location']['full']\n",
    "        max1 = parsed_json['forecast']['simpleforecast']['forecastday'][0]['high']['celsius']\n",
    "        min1 = parsed_json['forecast']['simpleforecast']['forecastday'][0]['low']['celsius']\n",
    "        max2 = parsed_json['forecast']['simpleforecast']['forecastday'][1]['high']['celsius']\n",
    "        min2 = parsed_json['forecast']['simpleforecast']['forecastday'][1]['low']['celsius']\n",
    "        max3 = parsed_json['forecast']['simpleforecast']['forecastday'][2]['high']['celsius']\n",
    "        min3 = parsed_json['forecast']['simpleforecast']['forecastday'][2]['low']['celsius']\n",
    "        max4 = parsed_json['forecast']['simpleforecast']['forecastday'][3]['high']['celsius']\n",
    "        min4 = parsed_json['forecast']['simpleforecast']['forecastday'][3]['low']['celsius']\n",
    "        max5 = parsed_json['forecast']['simpleforecast']['forecastday'][4]['high']['celsius']\n",
    "        min5 = parsed_json['forecast']['simpleforecast']['forecastday'][4]['low']['celsius']\n",
    "        Fiveday = [city, min1, max1, min2, max2, min3, max3, min4, max4, min5, max5,]\n",
    "        print(Fiveday)\n",
    "        writer.writerow(Fiveday)\n",
    "        f.close()\n",
    "        time.sleep(10)\n",
    "\n",
    "    out.close()"
   ]
  },
  {
   "cell_type": "code",
   "execution_count": null,
   "metadata": {
    "collapsed": true
   },
   "outputs": [],
   "source": []
  }
 ],
 "metadata": {
  "kernelspec": {
   "display_name": "Python 3",
   "language": "python",
   "name": "python3"
  },
  "language_info": {
   "codemirror_mode": {
    "name": "ipython",
    "version": 3
   },
   "file_extension": ".py",
   "mimetype": "text/x-python",
   "name": "python",
   "nbconvert_exporter": "python",
   "pygments_lexer": "ipython3",
   "version": "3.6.1"
  }
 },
 "nbformat": 4,
 "nbformat_minor": 2
}
