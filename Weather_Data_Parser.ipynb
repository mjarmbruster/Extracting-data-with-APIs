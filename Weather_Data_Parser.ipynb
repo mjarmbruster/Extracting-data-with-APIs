{
 "cells": [
  {
   "cell_type": "code",
   "execution_count": 7,
   "metadata": {},
   "outputs": [],
   "source": [
    "loc = [\n",
    "    'GH/Accra.json',\n",
    "    'AR/Buenos-Aires.json',\n",
    "    'IN/Chennai.json',\n",
    "    'CN/Lengshuijiang.json',\n",
    "    'GB/London.json',\n",
    "    'MX/Mexico_City.json',\n",
    "    'RU/Moscow.json',\n",
    "    'CA/Nanaimo.json',\n",
    "    'ES/Pamplona.json',\n",
    "    'NC/Cary.json',\n",
    "    'zmw:00000.1.78486.json',\n",
    "    'UZ/Tashkent.json',\n",
    "    'GR/Thessaloniki.json',\n",
    "    'PL/Gliwice.json'\n",
    "]"
   ]
  },
  {
   "cell_type": "code",
   "execution_count": 8,
   "metadata": {},
   "outputs": [
    {
     "name": "stdout",
     "output_type": "stream",
     "text": [
      "['GH/Accra.json', 'AR/Buenos-Aires.json', 'IN/Chennai.json', 'CN/Lengshuijiang.json', 'GB/London.json', 'MX/Mexico_City.json', 'RU/Moscow.json', 'CA/Nanaimo.json', 'ES/Pamplona.json', 'AU/Perth.json', 'NC/Cary.json', 'zmw:00000.1.78486.json', 'UZ/Tashkent.json', 'GR/Thessaloniki.json', 'PL/Gliwice.json']\n"
     ]
    }
   ],
   "source": [
    "print(loc)"
   ]
  },
  {
   "cell_type": "code",
   "execution_count": 9,
   "metadata": {},
   "outputs": [
    {
     "name": "stdout",
     "output_type": "stream",
     "text": [
      "['Accra, Ghana', '23', '29', '23', '28', '23', '28', '23', '27', '23', '27']\n",
      "['buenosaires, Argentina', '8', '24', '4', '11', '4', '11', '8', '12', '11', '14']\n",
      "['Chennai, India', '28', '35', '27', '35', '27', '36', '27', '35', '27', '34']\n",
      "['Lengshuijiang, China', '25', '35', '26', '34', '24', '33', '24', '32', '22', '32']\n",
      "['London, United Kingdom', '17', '23', '17', '26', '17', '26', '16', '26', '16', '26']\n",
      "['Mexico City, Mexico', '13', '23', '13', '24', '13', '23', '12', '22', '13', '23']\n",
      "['Moscow, Russia', '12', '24', '16', '26', '16', '24', '11', '24', '8', '19']\n",
      "['Nanaimo, British Columbia', '16', '26', '16', '29', '17', '31', '16', '31', '14', '27']\n",
      "['Pamplona, Spain', '12', '23', '13', '28', '14', '28', '15', '31', '16', '33']\n"
     ]
    },
    {
     "ename": "KeyError",
     "evalue": "'current_observation'",
     "output_type": "error",
     "traceback": [
      "\u001b[1;31m---------------------------------------------------------------------------\u001b[0m",
      "\u001b[1;31mKeyError\u001b[0m                                  Traceback (most recent call last)",
      "\u001b[1;32m<ipython-input-9-930458f7c7e5>\u001b[0m in \u001b[0;36m<module>\u001b[1;34m()\u001b[0m\n\u001b[0;32m     12\u001b[0m         \u001b[0mjson_string\u001b[0m \u001b[1;33m=\u001b[0m \u001b[0mf\u001b[0m\u001b[1;33m.\u001b[0m\u001b[0mread\u001b[0m\u001b[1;33m(\u001b[0m\u001b[1;33m)\u001b[0m\u001b[1;33m\u001b[0m\u001b[0m\n\u001b[0;32m     13\u001b[0m         \u001b[0mparsed_json\u001b[0m \u001b[1;33m=\u001b[0m \u001b[0mjson\u001b[0m\u001b[1;33m.\u001b[0m\u001b[0mloads\u001b[0m\u001b[1;33m(\u001b[0m \u001b[0mjson_string\u001b[0m \u001b[1;33m)\u001b[0m\u001b[1;33m\u001b[0m\u001b[0m\n\u001b[1;32m---> 14\u001b[1;33m         \u001b[0mcity\u001b[0m \u001b[1;33m=\u001b[0m \u001b[0mparsed_json\u001b[0m\u001b[1;33m[\u001b[0m\u001b[1;34m'current_observation'\u001b[0m\u001b[1;33m]\u001b[0m\u001b[1;33m[\u001b[0m\u001b[1;34m'display_location'\u001b[0m\u001b[1;33m]\u001b[0m\u001b[1;33m[\u001b[0m\u001b[1;34m'full'\u001b[0m\u001b[1;33m]\u001b[0m\u001b[1;33m\u001b[0m\u001b[0m\n\u001b[0m\u001b[0;32m     15\u001b[0m         \u001b[0mmax1\u001b[0m \u001b[1;33m=\u001b[0m \u001b[0mparsed_json\u001b[0m\u001b[1;33m[\u001b[0m\u001b[1;34m'forecast'\u001b[0m\u001b[1;33m]\u001b[0m\u001b[1;33m[\u001b[0m\u001b[1;34m'simpleforecast'\u001b[0m\u001b[1;33m]\u001b[0m\u001b[1;33m[\u001b[0m\u001b[1;34m'forecastday'\u001b[0m\u001b[1;33m]\u001b[0m\u001b[1;33m[\u001b[0m\u001b[1;36m0\u001b[0m\u001b[1;33m]\u001b[0m\u001b[1;33m[\u001b[0m\u001b[1;34m'high'\u001b[0m\u001b[1;33m]\u001b[0m\u001b[1;33m[\u001b[0m\u001b[1;34m'celsius'\u001b[0m\u001b[1;33m]\u001b[0m\u001b[1;33m\u001b[0m\u001b[0m\n\u001b[0;32m     16\u001b[0m         \u001b[0mmin1\u001b[0m \u001b[1;33m=\u001b[0m \u001b[0mparsed_json\u001b[0m\u001b[1;33m[\u001b[0m\u001b[1;34m'forecast'\u001b[0m\u001b[1;33m]\u001b[0m\u001b[1;33m[\u001b[0m\u001b[1;34m'simpleforecast'\u001b[0m\u001b[1;33m]\u001b[0m\u001b[1;33m[\u001b[0m\u001b[1;34m'forecastday'\u001b[0m\u001b[1;33m]\u001b[0m\u001b[1;33m[\u001b[0m\u001b[1;36m0\u001b[0m\u001b[1;33m]\u001b[0m\u001b[1;33m[\u001b[0m\u001b[1;34m'low'\u001b[0m\u001b[1;33m]\u001b[0m\u001b[1;33m[\u001b[0m\u001b[1;34m'celsius'\u001b[0m\u001b[1;33m]\u001b[0m\u001b[1;33m\u001b[0m\u001b[0m\n",
      "\u001b[1;31mKeyError\u001b[0m: 'current_observation'"
     ]
    }
   ],
   "source": [
    "import urllib.request, urllib.error, urllib.parse\n",
    "import json\n",
    "import time\n",
    "import csv\n",
    "\n",
    "with open('temp.csv', 'w') as out:\n",
    "    writer = csv.writer(out)\n",
    "    writer.writerow(['City','Min 1','Max 1','Min 2','Max 2','Min 3', 'Max 3', 'Min 4', 'Max 4', 'Min 5','Max 5'])\n",
    "\n",
    "    for i in range(len(loc)):\n",
    "        f = urllib.request.urlopen('http://api.wunderground.com/api/82669d938f04277f/forecast10day/conditions/q/'+loc[i])\n",
    "        json_string = f.read()\n",
    "        parsed_json = json.loads( json_string )\n",
    "        city = parsed_json['current_observation']['display_location']['full']\n",
    "        max1 = parsed_json['forecast']['simpleforecast']['forecastday'][0]['high']['celsius']\n",
    "        min1 = parsed_json['forecast']['simpleforecast']['forecastday'][0]['low']['celsius']\n",
    "        max2 = parsed_json['forecast']['simpleforecast']['forecastday'][1]['high']['celsius']\n",
    "        min2 = parsed_json['forecast']['simpleforecast']['forecastday'][1]['low']['celsius']\n",
    "        max3 = parsed_json['forecast']['simpleforecast']['forecastday'][2]['high']['celsius']\n",
    "        min3 = parsed_json['forecast']['simpleforecast']['forecastday'][2]['low']['celsius']\n",
    "        max4 = parsed_json['forecast']['simpleforecast']['forecastday'][3]['high']['celsius']\n",
    "        min4 = parsed_json['forecast']['simpleforecast']['forecastday'][3]['low']['celsius']\n",
    "        max5 = parsed_json['forecast']['simpleforecast']['forecastday'][4]['high']['celsius']\n",
    "        min5 = parsed_json['forecast']['simpleforecast']['forecastday'][4]['low']['celsius']\n",
    "        Fiveday = [city, min1, max1, min2, max2, min3, max3, min4, max4, min5, max5,]\n",
    "        print(Fiveday)\n",
    "        writer.writerow(Fiveday)\n",
    "        f.close()\n",
    "        time.sleep(10)\n",
    "\n",
    "    out.close()"
   ]
  },
  {
   "cell_type": "code",
   "execution_count": null,
   "metadata": {
    "collapsed": true
   },
   "outputs": [],
   "source": []
  }
 ],
 "metadata": {
  "kernelspec": {
   "display_name": "Python 3",
   "language": "python",
   "name": "python3"
  },
  "language_info": {
   "codemirror_mode": {
    "name": "ipython",
    "version": 3
   },
   "file_extension": ".py",
   "mimetype": "text/x-python",
   "name": "python",
   "nbconvert_exporter": "python",
   "pygments_lexer": "ipython3",
   "version": "3.6.1"
  }
 },
 "nbformat": 4,
 "nbformat_minor": 2
}
