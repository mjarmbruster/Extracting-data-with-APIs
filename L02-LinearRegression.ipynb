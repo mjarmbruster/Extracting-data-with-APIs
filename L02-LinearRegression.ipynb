{
 "cells": [
  {
   "cell_type": "markdown",
   "metadata": {},
   "source": [
    "## <h1>Lesson 2. Regression analysis: How Much Is Your Car Worth?</h1>"
   ]
  },
  {
   "cell_type": "markdown",
   "metadata": {},
   "source": [
    "<img src=\"https://upload.wikimedia.org/wikipedia/commons/thumb/7/72/Kelley_Blue_Book_Vertical.JPG/152px-Kelley_Blue_Book_Vertical.JPG\" style=\"height:200px;\">\n",
    "  \n",
    "  <p>This exercise will use data collected from <a href=\"https://www.kbb.com/\">Kelly Blue Book</a> for 2005 for used General Motors (GM) cars. The overall goal is to predict the suggested retail price of the car (<a href=\"http://ww2.amstat.org/publications/jse/jse_data_archive.htm\">Kuiper (2008), JSE</a>).</p>\n",
    "\n",
    "<p>The following features are available for this dataset:</p>\n",
    "<ul>\n",
    "<li>Price: Suggested retail price of the used 2005 GM car</li>\n",
    "<li>Mileage: Car mileage</li>\n",
    "<li>Cylinder: Number of cylinders in the engine</li>\n",
    "<li>Doors: Number of doors</li>\n",
    "<li>Cruise: Does it have cruise control</li>\n",
    "<li>Sound: Does it have upgraded sound?</li>\n",
    "<li>Leather: Does it have leather seats?</li>\n",
    "<li>Make columns (indicator variables):\n",
    "    <ul>\n",
    "        <li>Buick</li>\n",
    "        <li>Cadillac</li>\n",
    "        <li>Chevy</li>\n",
    "        <li>Pontiac</li>\n",
    "        <li>Saab</li>\n",
    "        <li>...</li>\n",
    "    </ul>\n",
    "</li>\n",
    "<li>Body Type columns (indicator variables):\n",
    "    <ul>\n",
    "        <li>convertible</li>\n",
    "        <li>coupe</li>\n",
    "        <li>hatchback</li>\n",
    "        <li>sedan</li>\n",
    "        <li>...</li>\n",
    "    </ul>\n",
    "</li>\n",
    "</ul>\n"
   ]
  },
  {
   "cell_type": "code",
   "execution_count": 1,
   "metadata": {},
   "outputs": [
    {
     "data": {
      "text/html": [
       "<div>\n",
       "<style scoped>\n",
       "    .dataframe tbody tr th:only-of-type {\n",
       "        vertical-align: middle;\n",
       "    }\n",
       "\n",
       "    .dataframe tbody tr th {\n",
       "        vertical-align: top;\n",
       "    }\n",
       "\n",
       "    .dataframe thead th {\n",
       "        text-align: right;\n",
       "    }\n",
       "</style>\n",
       "<table border=\"1\" class=\"dataframe\">\n",
       "  <thead>\n",
       "    <tr style=\"text-align: right;\">\n",
       "      <th></th>\n",
       "      <th>Price</th>\n",
       "      <th>Mileage</th>\n",
       "      <th>Cylinder</th>\n",
       "      <th>Doors</th>\n",
       "      <th>Cruise</th>\n",
       "      <th>Sound</th>\n",
       "      <th>Leather</th>\n",
       "      <th>Buick</th>\n",
       "      <th>Cadillac</th>\n",
       "      <th>Chevy</th>\n",
       "      <th>Pontiac</th>\n",
       "      <th>Saab</th>\n",
       "      <th>Saturn</th>\n",
       "      <th>convertible</th>\n",
       "      <th>coupe</th>\n",
       "      <th>hatchback</th>\n",
       "      <th>sedan</th>\n",
       "      <th>wagon</th>\n",
       "    </tr>\n",
       "  </thead>\n",
       "  <tbody>\n",
       "    <tr>\n",
       "      <th>0</th>\n",
       "      <td>22661.05</td>\n",
       "      <td>20105</td>\n",
       "      <td>6</td>\n",
       "      <td>4</td>\n",
       "      <td>1</td>\n",
       "      <td>0</td>\n",
       "      <td>0</td>\n",
       "      <td>1</td>\n",
       "      <td>0</td>\n",
       "      <td>0</td>\n",
       "      <td>0</td>\n",
       "      <td>0</td>\n",
       "      <td>0</td>\n",
       "      <td>0</td>\n",
       "      <td>0</td>\n",
       "      <td>0</td>\n",
       "      <td>1</td>\n",
       "      <td>0</td>\n",
       "    </tr>\n",
       "    <tr>\n",
       "      <th>1</th>\n",
       "      <td>21725.01</td>\n",
       "      <td>13457</td>\n",
       "      <td>6</td>\n",
       "      <td>2</td>\n",
       "      <td>1</td>\n",
       "      <td>1</td>\n",
       "      <td>0</td>\n",
       "      <td>0</td>\n",
       "      <td>0</td>\n",
       "      <td>1</td>\n",
       "      <td>0</td>\n",
       "      <td>0</td>\n",
       "      <td>0</td>\n",
       "      <td>0</td>\n",
       "      <td>1</td>\n",
       "      <td>0</td>\n",
       "      <td>0</td>\n",
       "      <td>0</td>\n",
       "    </tr>\n",
       "    <tr>\n",
       "      <th>2</th>\n",
       "      <td>29142.71</td>\n",
       "      <td>31655</td>\n",
       "      <td>4</td>\n",
       "      <td>2</td>\n",
       "      <td>1</td>\n",
       "      <td>1</td>\n",
       "      <td>1</td>\n",
       "      <td>0</td>\n",
       "      <td>0</td>\n",
       "      <td>0</td>\n",
       "      <td>0</td>\n",
       "      <td>1</td>\n",
       "      <td>0</td>\n",
       "      <td>1</td>\n",
       "      <td>0</td>\n",
       "      <td>0</td>\n",
       "      <td>0</td>\n",
       "      <td>0</td>\n",
       "    </tr>\n",
       "    <tr>\n",
       "      <th>3</th>\n",
       "      <td>30731.94</td>\n",
       "      <td>22479</td>\n",
       "      <td>4</td>\n",
       "      <td>2</td>\n",
       "      <td>1</td>\n",
       "      <td>0</td>\n",
       "      <td>0</td>\n",
       "      <td>0</td>\n",
       "      <td>0</td>\n",
       "      <td>0</td>\n",
       "      <td>0</td>\n",
       "      <td>1</td>\n",
       "      <td>0</td>\n",
       "      <td>1</td>\n",
       "      <td>0</td>\n",
       "      <td>0</td>\n",
       "      <td>0</td>\n",
       "      <td>0</td>\n",
       "    </tr>\n",
       "    <tr>\n",
       "      <th>4</th>\n",
       "      <td>33358.77</td>\n",
       "      <td>17590</td>\n",
       "      <td>4</td>\n",
       "      <td>2</td>\n",
       "      <td>1</td>\n",
       "      <td>1</td>\n",
       "      <td>1</td>\n",
       "      <td>0</td>\n",
       "      <td>0</td>\n",
       "      <td>0</td>\n",
       "      <td>0</td>\n",
       "      <td>1</td>\n",
       "      <td>0</td>\n",
       "      <td>1</td>\n",
       "      <td>0</td>\n",
       "      <td>0</td>\n",
       "      <td>0</td>\n",
       "      <td>0</td>\n",
       "    </tr>\n",
       "  </tbody>\n",
       "</table>\n",
       "</div>"
      ],
      "text/plain": [
       "      Price  Mileage  Cylinder  Doors  Cruise  Sound  Leather  Buick  \\\n",
       "0  22661.05    20105         6      4       1      0        0      1   \n",
       "1  21725.01    13457         6      2       1      1        0      0   \n",
       "2  29142.71    31655         4      2       1      1        1      0   \n",
       "3  30731.94    22479         4      2       1      0        0      0   \n",
       "4  33358.77    17590         4      2       1      1        1      0   \n",
       "\n",
       "   Cadillac  Chevy  Pontiac  Saab  Saturn  convertible  coupe  hatchback  \\\n",
       "0         0      0        0     0       0            0      0          0   \n",
       "1         0      1        0     0       0            0      1          0   \n",
       "2         0      0        0     1       0            1      0          0   \n",
       "3         0      0        0     1       0            1      0          0   \n",
       "4         0      0        0     1       0            1      0          0   \n",
       "\n",
       "   sedan  wagon  \n",
       "0      1      0  \n",
       "1      0      0  \n",
       "2      0      0  \n",
       "3      0      0  \n",
       "4      0      0  "
      ]
     },
     "execution_count": 1,
     "metadata": {},
     "output_type": "execute_result"
    }
   ],
   "source": [
    "import pandas as pd\n",
    "\n",
    "cars = pd.read_csv('cars.csv')\n",
    "cars.head()"
   ]
  },
  {
   "cell_type": "code",
   "execution_count": 2,
   "metadata": {},
   "outputs": [
    {
     "name": "stdout",
     "output_type": "stream",
     "text": [
      "<class 'pandas.core.frame.DataFrame'>\n",
      "RangeIndex: 804 entries, 0 to 803\n",
      "Data columns (total 18 columns):\n",
      "Price          804 non-null float64\n",
      "Mileage        804 non-null int64\n",
      "Cylinder       804 non-null int64\n",
      "Doors          804 non-null int64\n",
      "Cruise         804 non-null int64\n",
      "Sound          804 non-null int64\n",
      "Leather        804 non-null int64\n",
      "Buick          804 non-null int64\n",
      "Cadillac       804 non-null int64\n",
      "Chevy          804 non-null int64\n",
      "Pontiac        804 non-null int64\n",
      "Saab           804 non-null int64\n",
      "Saturn         804 non-null int64\n",
      "convertible    804 non-null int64\n",
      "coupe          804 non-null int64\n",
      "hatchback      804 non-null int64\n",
      "sedan          804 non-null int64\n",
      "wagon          804 non-null int64\n",
      "dtypes: float64(1), int64(17)\n",
      "memory usage: 113.1 KB\n"
     ]
    }
   ],
   "source": [
    "cars.info()"
   ]
  },
  {
   "cell_type": "markdown",
   "metadata": {},
   "source": [
    "<h3>Q.1. Plot Price vs. Mileage. From the plot, does it seem like cars with more mileage are worth less?</h3>"
   ]
  },
  {
   "cell_type": "code",
   "execution_count": 3,
   "metadata": {},
   "outputs": [
    {
     "data": {
      "text/plain": [
       "<Figure size 640x480 with 1 Axes>"
      ]
     },
     "metadata": {},
     "output_type": "display_data"
    }
   ],
   "source": [
    "# Put the command (or commands) here that would give answer to the above question.\n",
    "import matplotlib.pyplot as plt\n",
    "\n",
    "cars.plot(kind='scatter',x='Mileage',y='Price',color='red')\n",
    "plt.show()\n",
    "# Yes, but the overall relationship isn't as strong as I would have expected. The relationship also appears to be influenced \n",
    "# by outliers (10 Cadillac convertables all with prices above $52,000). For these outliers, the negative linear relationship \n",
    "# between price and mileage appears to be more evident."
   ]
  },
  {
   "cell_type": "code",
   "execution_count": 4,
   "metadata": {},
   "outputs": [
    {
     "name": "stdout",
     "output_type": "stream",
     "text": [
      "        Price  Mileage  Cylinder  Doors  Cruise  Sound  Leather  Buick  \\\n",
      "194  68566.19     6420         8      2       1      1        1      0   \n",
      "195  70755.47      583         8      2       1      1        1      0   \n",
      "196  52001.99    42691         8      2       1      1        1      0   \n",
      "197  60567.55    23193         8      2       1      1        1      0   \n",
      "198  63913.12    18200         8      2       1      1        1      0   \n",
      "199  69133.73     7892         8      2       1      1        1      0   \n",
      "200  66374.31    12021         8      2       1      1        1      0   \n",
      "646  55639.09    31805         8      2       1      0        1      0   \n",
      "647  65281.48    15600         8      2       1      1        1      0   \n",
      "648  57154.44    29260         8      2       1      1        1      0   \n",
      "\n",
      "     Cadillac  Chevy  Pontiac  Saab  Saturn  convertible  coupe  hatchback  \\\n",
      "194         1      0        0     0       0            1      0          0   \n",
      "195         1      0        0     0       0            1      0          0   \n",
      "196         1      0        0     0       0            1      0          0   \n",
      "197         1      0        0     0       0            1      0          0   \n",
      "198         1      0        0     0       0            1      0          0   \n",
      "199         1      0        0     0       0            1      0          0   \n",
      "200         1      0        0     0       0            1      0          0   \n",
      "646         1      0        0     0       0            1      0          0   \n",
      "647         1      0        0     0       0            1      0          0   \n",
      "648         1      0        0     0       0            1      0          0   \n",
      "\n",
      "     sedan  wagon  \n",
      "194      0      0  \n",
      "195      0      0  \n",
      "196      0      0  \n",
      "197      0      0  \n",
      "198      0      0  \n",
      "199      0      0  \n",
      "200      0      0  \n",
      "646      0      0  \n",
      "647      0      0  \n",
      "648      0      0  \n"
     ]
    }
   ],
   "source": [
    "print(cars[cars.Price>52000])"
   ]
  },
  {
   "cell_type": "markdown",
   "metadata": {},
   "source": [
    "<h3>Q.2. Develop a simple linear regression model, relating price with mileage only. Show summary statistics for the model.</h3> "
   ]
  },
  {
   "cell_type": "code",
   "execution_count": 5,
   "metadata": {},
   "outputs": [
    {
     "name": "stderr",
     "output_type": "stream",
     "text": [
      "/usr/local/lib/python3.6/site-packages/statsmodels/compat/pandas.py:56: FutureWarning: The pandas.core.datetools module is deprecated and will be removed in a future version. Please use the pandas.tseries module instead.\n",
      "  from pandas.core import datetools\n"
     ]
    },
    {
     "data": {
      "text/html": [
       "<table class=\"simpletable\">\n",
       "<caption>OLS Regression Results</caption>\n",
       "<tr>\n",
       "  <th>Dep. Variable:</th>          <td>Price</td>      <th>  R-squared:         </th> <td>   0.020</td> \n",
       "</tr>\n",
       "<tr>\n",
       "  <th>Model:</th>                   <td>OLS</td>       <th>  Adj. R-squared:    </th> <td>   0.019</td> \n",
       "</tr>\n",
       "<tr>\n",
       "  <th>Method:</th>             <td>Least Squares</td>  <th>  F-statistic:       </th> <td>   16.75</td> \n",
       "</tr>\n",
       "<tr>\n",
       "  <th>Date:</th>             <td>Wed, 08 May 2019</td> <th>  Prob (F-statistic):</th> <td>4.68e-05</td> \n",
       "</tr>\n",
       "<tr>\n",
       "  <th>Time:</th>                 <td>16:23:14</td>     <th>  Log-Likelihood:    </th> <td> -8527.8</td> \n",
       "</tr>\n",
       "<tr>\n",
       "  <th>No. Observations:</th>      <td>   804</td>      <th>  AIC:               </th> <td>1.706e+04</td>\n",
       "</tr>\n",
       "<tr>\n",
       "  <th>Df Residuals:</th>          <td>   802</td>      <th>  BIC:               </th> <td>1.707e+04</td>\n",
       "</tr>\n",
       "<tr>\n",
       "  <th>Df Model:</th>              <td>     1</td>      <th>                     </th>     <td> </td>    \n",
       "</tr>\n",
       "<tr>\n",
       "  <th>Covariance Type:</th>      <td>nonrobust</td>    <th>                     </th>     <td> </td>    \n",
       "</tr>\n",
       "</table>\n",
       "<table class=\"simpletable\">\n",
       "<tr>\n",
       "     <td></td>        <th>coef</th>     <th>std err</th>      <th>t</th>      <th>P>|t|</th>  <th>[0.025</th>    <th>0.975]</th>  \n",
       "</tr>\n",
       "<tr>\n",
       "  <th>const</th>   <td> 2.476e+04</td> <td>  904.363</td> <td>   27.383</td> <td> 0.000</td> <td>  2.3e+04</td> <td> 2.65e+04</td>\n",
       "</tr>\n",
       "<tr>\n",
       "  <th>Mileage</th> <td>   -0.1725</td> <td>    0.042</td> <td>   -4.093</td> <td> 0.000</td> <td>   -0.255</td> <td>   -0.090</td>\n",
       "</tr>\n",
       "</table>\n",
       "<table class=\"simpletable\">\n",
       "<tr>\n",
       "  <th>Omnibus:</th>       <td>236.450</td> <th>  Durbin-Watson:     </th> <td>   0.323</td> \n",
       "</tr>\n",
       "<tr>\n",
       "  <th>Prob(Omnibus):</th> <td> 0.000</td>  <th>  Jarque-Bera (JB):  </th> <td> 605.297</td> \n",
       "</tr>\n",
       "<tr>\n",
       "  <th>Skew:</th>          <td> 1.522</td>  <th>  Prob(JB):          </th> <td>3.64e-132</td>\n",
       "</tr>\n",
       "<tr>\n",
       "  <th>Kurtosis:</th>      <td> 5.966</td>  <th>  Cond. No.          </th> <td>5.62e+04</td> \n",
       "</tr>\n",
       "</table>"
      ],
      "text/plain": [
       "<class 'statsmodels.iolib.summary.Summary'>\n",
       "\"\"\"\n",
       "                            OLS Regression Results                            \n",
       "==============================================================================\n",
       "Dep. Variable:                  Price   R-squared:                       0.020\n",
       "Model:                            OLS   Adj. R-squared:                  0.019\n",
       "Method:                 Least Squares   F-statistic:                     16.75\n",
       "Date:                Wed, 08 May 2019   Prob (F-statistic):           4.68e-05\n",
       "Time:                        16:23:14   Log-Likelihood:                -8527.8\n",
       "No. Observations:                 804   AIC:                         1.706e+04\n",
       "Df Residuals:                     802   BIC:                         1.707e+04\n",
       "Df Model:                           1                                         \n",
       "Covariance Type:            nonrobust                                         \n",
       "==============================================================================\n",
       "                 coef    std err          t      P>|t|      [0.025      0.975]\n",
       "------------------------------------------------------------------------------\n",
       "const       2.476e+04    904.363     27.383      0.000     2.3e+04    2.65e+04\n",
       "Mileage       -0.1725      0.042     -4.093      0.000      -0.255      -0.090\n",
       "==============================================================================\n",
       "Omnibus:                      236.450   Durbin-Watson:                   0.323\n",
       "Prob(Omnibus):                  0.000   Jarque-Bera (JB):              605.297\n",
       "Skew:                           1.522   Prob(JB):                    3.64e-132\n",
       "Kurtosis:                       5.966   Cond. No.                     5.62e+04\n",
       "==============================================================================\n",
       "\n",
       "Warnings:\n",
       "[1] Standard Errors assume that the covariance matrix of the errors is correctly specified.\n",
       "[2] The condition number is large, 5.62e+04. This might indicate that there are\n",
       "strong multicollinearity or other numerical problems.\n",
       "\"\"\""
      ]
     },
     "execution_count": 5,
     "metadata": {},
     "output_type": "execute_result"
    }
   ],
   "source": [
    "# Linear regression model:\n",
    "\n",
    "import statsmodels.api as sm\n",
    "\n",
    "# Set the target and features  \n",
    "X = cars[\"Mileage\"]\n",
    "y = cars[\"Price\"]\n",
    "X = sm.add_constant(X)\n",
    "\n",
    "# Fit the model\n",
    "model = sm.OLS(y,X).fit()\n",
    "\n",
    "# Show summary statistics for the model:\n",
    "model.summary()"
   ]
  },
  {
   "cell_type": "markdown",
   "metadata": {},
   "source": [
    "<h3>Q.3. What happens to price when there is one more mile on the car?</h3>"
   ]
  },
  {
   "cell_type": "code",
   "execution_count": 6,
   "metadata": {},
   "outputs": [
    {
     "name": "stdout",
     "output_type": "stream",
     "text": [
      "-0.17252050260202165\n"
     ]
    }
   ],
   "source": [
    "print(model.params.Mileage)\n",
    "\n",
    "# On average, one additional mile on a car is expected to decrease its value by 17 cents."
   ]
  },
  {
   "cell_type": "markdown",
   "metadata": {},
   "source": [
    "<h3>Q.4. What is the expected value of a car with 0 miles according to your model?</h3>"
   ]
  },
  {
   "cell_type": "code",
   "execution_count": 7,
   "metadata": {},
   "outputs": [
    {
     "name": "stdout",
     "output_type": "stream",
     "text": [
      "24764.55899120203\n"
     ]
    }
   ],
   "source": [
    "print(model.params.const)\n",
    "# On average, the expected value of a car with 0 miles is $24,764"
   ]
  },
  {
   "cell_type": "markdown",
   "metadata": {},
   "source": [
    "<h3>Q.5. Plot residuals of the model vs. fitted values. Are there any problems that you see with the model?</h3>"
   ]
  },
  {
   "cell_type": "code",
   "execution_count": 8,
   "metadata": {},
   "outputs": [
    {
     "data": {
      "image/png": "[encoded data removed]",
      "text/plain": [
       "<Figure size 432x288 with 1 Axes>"
      ]
     },
     "metadata": {},
     "output_type": "display_data"
    }
   ],
   "source": [
    "# Plot residuals\n",
    "import seaborn as sns\n",
    "\n",
    "sns.residplot(model.fittedvalues, model.resid, data=None, lowess=True, color='grey', line_kws={'color': 'red', 'lw': 2, 'alpha': 0.7})\n",
    "plt.title('Residual Plot')\n",
    "plt.ylabel('Residuals')\n",
    "plt.xlabel('Fitted values')\n",
    "plt.show()\n",
    "\n",
    "# Again, there are some outliers in the data that are producing large residuals, but otherwise, there does not \n",
    "# appear to be much of a pattern to the residuals that would indicate a problem with the model."
   ]
  },
  {
   "cell_type": "markdown",
   "metadata": {},
   "source": [
    "<h3>Q.6. Develop a model that predicts the Price from Mileage, Cylinder, Doors, Cruise, Sound, Leather data. Is this model more accurate - explain why (1-2 sentence). </h3>"
   ]
  },
  {
   "cell_type": "code",
   "execution_count": 9,
   "metadata": {},
   "outputs": [
    {
     "data": {
      "text/html": [
       "<table class=\"simpletable\">\n",
       "<caption>OLS Regression Results</caption>\n",
       "<tr>\n",
       "  <th>Dep. Variable:</th>          <td>Price</td>      <th>  R-squared:         </th> <td>   0.446</td> \n",
       "</tr>\n",
       "<tr>\n",
       "  <th>Model:</th>                   <td>OLS</td>       <th>  Adj. R-squared:    </th> <td>   0.442</td> \n",
       "</tr>\n",
       "<tr>\n",
       "  <th>Method:</th>             <td>Least Squares</td>  <th>  F-statistic:       </th> <td>   106.8</td> \n",
       "</tr>\n",
       "<tr>\n",
       "  <th>Date:</th>             <td>Wed, 08 May 2019</td> <th>  Prob (F-statistic):</th> <td>1.23e-98</td> \n",
       "</tr>\n",
       "<tr>\n",
       "  <th>Time:</th>                 <td>16:23:14</td>     <th>  Log-Likelihood:    </th> <td> -8298.9</td> \n",
       "</tr>\n",
       "<tr>\n",
       "  <th>No. Observations:</th>      <td>   804</td>      <th>  AIC:               </th> <td>1.661e+04</td>\n",
       "</tr>\n",
       "<tr>\n",
       "  <th>Df Residuals:</th>          <td>   797</td>      <th>  BIC:               </th> <td>1.664e+04</td>\n",
       "</tr>\n",
       "<tr>\n",
       "  <th>Df Model:</th>              <td>     6</td>      <th>                     </th>     <td> </td>    \n",
       "</tr>\n",
       "<tr>\n",
       "  <th>Covariance Type:</th>      <td>nonrobust</td>    <th>                     </th>     <td> </td>    \n",
       "</tr>\n",
       "</table>\n",
       "<table class=\"simpletable\">\n",
       "<tr>\n",
       "      <td></td>        <th>coef</th>     <th>std err</th>      <th>t</th>      <th>P>|t|</th>  <th>[0.025</th>    <th>0.975]</th>  \n",
       "</tr>\n",
       "<tr>\n",
       "  <th>const</th>    <td> 7323.1646</td> <td> 1770.837</td> <td>    4.135</td> <td> 0.000</td> <td> 3847.110</td> <td> 1.08e+04</td>\n",
       "</tr>\n",
       "<tr>\n",
       "  <th>Mileage</th>  <td>   -0.1705</td> <td>    0.032</td> <td>   -5.352</td> <td> 0.000</td> <td>   -0.233</td> <td>   -0.108</td>\n",
       "</tr>\n",
       "<tr>\n",
       "  <th>Cylinder</th> <td> 3200.1246</td> <td>  202.983</td> <td>   15.765</td> <td> 0.000</td> <td> 2801.680</td> <td> 3598.570</td>\n",
       "</tr>\n",
       "<tr>\n",
       "  <th>Doors</th>    <td>-1463.3991</td> <td>  308.274</td> <td>   -4.747</td> <td> 0.000</td> <td>-2068.525</td> <td> -858.273</td>\n",
       "</tr>\n",
       "<tr>\n",
       "  <th>Cruise</th>   <td> 6205.5113</td> <td>  651.463</td> <td>    9.525</td> <td> 0.000</td> <td> 4926.724</td> <td> 7484.298</td>\n",
       "</tr>\n",
       "<tr>\n",
       "  <th>Sound</th>    <td>-2024.4011</td> <td>  570.718</td> <td>   -3.547</td> <td> 0.000</td> <td>-3144.690</td> <td> -904.113</td>\n",
       "</tr>\n",
       "<tr>\n",
       "  <th>Leather</th>  <td> 3327.1435</td> <td>  597.114</td> <td>    5.572</td> <td> 0.000</td> <td> 2155.041</td> <td> 4499.246</td>\n",
       "</tr>\n",
       "</table>\n",
       "<table class=\"simpletable\">\n",
       "<tr>\n",
       "  <th>Omnibus:</th>       <td>145.941</td> <th>  Durbin-Watson:     </th> <td>   0.498</td>\n",
       "</tr>\n",
       "<tr>\n",
       "  <th>Prob(Omnibus):</th> <td> 0.000</td>  <th>  Jarque-Bera (JB):  </th> <td> 258.863</td>\n",
       "</tr>\n",
       "<tr>\n",
       "  <th>Skew:</th>          <td> 1.098</td>  <th>  Prob(JB):          </th> <td>6.15e-57</td>\n",
       "</tr>\n",
       "<tr>\n",
       "  <th>Kurtosis:</th>      <td> 4.703</td>  <th>  Cond. No.          </th> <td>1.48e+05</td>\n",
       "</tr>\n",
       "</table>"
      ],
      "text/plain": [
       "<class 'statsmodels.iolib.summary.Summary'>\n",
       "\"\"\"\n",
       "                            OLS Regression Results                            \n",
       "==============================================================================\n",
       "Dep. Variable:                  Price   R-squared:                       0.446\n",
       "Model:                            OLS   Adj. R-squared:                  0.442\n",
       "Method:                 Least Squares   F-statistic:                     106.8\n",
       "Date:                Wed, 08 May 2019   Prob (F-statistic):           1.23e-98\n",
       "Time:                        16:23:14   Log-Likelihood:                -8298.9\n",
       "No. Observations:                 804   AIC:                         1.661e+04\n",
       "Df Residuals:                     797   BIC:                         1.664e+04\n",
       "Df Model:                           6                                         \n",
       "Covariance Type:            nonrobust                                         \n",
       "==============================================================================\n",
       "                 coef    std err          t      P>|t|      [0.025      0.975]\n",
       "------------------------------------------------------------------------------\n",
       "const       7323.1646   1770.837      4.135      0.000    3847.110    1.08e+04\n",
       "Mileage       -0.1705      0.032     -5.352      0.000      -0.233      -0.108\n",
       "Cylinder    3200.1246    202.983     15.765      0.000    2801.680    3598.570\n",
       "Doors      -1463.3991    308.274     -4.747      0.000   -2068.525    -858.273\n",
       "Cruise      6205.5113    651.463      9.525      0.000    4926.724    7484.298\n",
       "Sound      -2024.4011    570.718     -3.547      0.000   -3144.690    -904.113\n",
       "Leather     3327.1435    597.114      5.572      0.000    2155.041    4499.246\n",
       "==============================================================================\n",
       "Omnibus:                      145.941   Durbin-Watson:                   0.498\n",
       "Prob(Omnibus):                  0.000   Jarque-Bera (JB):              258.863\n",
       "Skew:                           1.098   Prob(JB):                     6.15e-57\n",
       "Kurtosis:                       4.703   Cond. No.                     1.48e+05\n",
       "==============================================================================\n",
       "\n",
       "Warnings:\n",
       "[1] Standard Errors assume that the covariance matrix of the errors is correctly specified.\n",
       "[2] The condition number is large, 1.48e+05. This might indicate that there are\n",
       "strong multicollinearity or other numerical problems.\n",
       "\"\"\""
      ]
     },
     "execution_count": 9,
     "metadata": {},
     "output_type": "execute_result"
    }
   ],
   "source": [
    "# Commands:\n",
    "\n",
    "X = cars[[\"Mileage\",\"Cylinder\",\"Doors\",\"Cruise\",\"Sound\",\"Leather\"]]\n",
    "y = cars[\"Price\"]\n",
    "\n",
    "X = sm.add_constant(X)\n",
    "\n",
    "model_2 = sm.OLS(y,X).fit()\n",
    "\n",
    "model_2.summary()\n",
    "\n",
    "# Explanation:\n",
    "# The MLR model is undoubtedly better and more accurate than than the simple linear regression. Looking at the R-sq value, \n",
    "# we see that the MLR model explains ~ 44% of the variation in car price compared with only 2% in the simple linear regression \n",
    "# model. In terms of accuracy, we can also see that the MSE of the MLR model is far smaller (5,796 vs 7,596)."
   ]
  },
  {
   "cell_type": "code",
   "execution_count": 10,
   "metadata": {
    "collapsed": true
   },
   "outputs": [],
   "source": [
    "from sklearn import metrics\n",
    "model_2_mse = sm.tools.eval_measures.mse(y, model_2.fittedvalues, axis=0)\n",
    "model_1_mse = sm.tools.eval_measures.mse(y, model.fittedvalues, axis=0)"
   ]
  },
  {
   "cell_type": "code",
   "execution_count": 11,
   "metadata": {},
   "outputs": [
    {
     "name": "stdout",
     "output_type": "stream",
     "text": [
      "95591781.670083\n",
      "54094348.47135444\n",
      "True\n"
     ]
    }
   ],
   "source": [
    "print(model_1_mse) \n",
    "print(model_2_mse)\n",
    "print(model_2_mse < model_1_mse)"
   ]
  },
  {
   "cell_type": "markdown",
   "metadata": {},
   "source": [
    "<h3>Q.7. Are any of the features in the above model highly colinear to the point where they impact the model quality?</h3>"
   ]
  },
  {
   "cell_type": "code",
   "execution_count": 12,
   "metadata": {},
   "outputs": [
    {
     "data": {
      "text/plain": [
       "const       46.202290\n",
       "Mileage      1.003421\n",
       "Cylinder     1.167272\n",
       "Doors        1.010767\n",
       "Cruise       1.164616\n",
       "Sound        1.045804\n",
       "Leather      1.049990\n",
       "dtype: float64"
      ]
     },
     "execution_count": 12,
     "metadata": {},
     "output_type": "execute_result"
    }
   ],
   "source": [
    "# Command(s):\n",
    "from statsmodels.stats.outliers_influence import variance_inflation_factor\n",
    "\n",
    "pd.Series([variance_inflation_factor(X.values, i) \n",
    "        for i in range(X.shape[1])], \n",
    "              index=X.columns)\n",
    "\n",
    "# Comment on the result\n",
    "#Values around 1 suggest that our features are not highly colinear in any way that would impact the model."
   ]
  },
  {
   "cell_type": "markdown",
   "metadata": {},
   "source": [
    "<h3>Q.8. What is the expected price for the Chevy sedan described in variable 'chevy', shown below?</h3>"
   ]
  },
  {
   "cell_type": "code",
   "execution_count": 13,
   "metadata": {},
   "outputs": [
    {
     "data": {
      "text/plain": [
       "0    19589.606081\n",
       "dtype: float64"
      ]
     },
     "execution_count": 13,
     "metadata": {},
     "output_type": "execute_result"
    }
   ],
   "source": [
    "# Commands:\n",
    "chevy = pd.DataFrame([(30000, 4, 2, 1, 1, 1)], columns=[\"Mileage\", \"Cylinder\", \"Doors\", \"Cruise\", \"Sound\", \"Leather\"])\n",
    "\n",
    "chevy = sm.add_constant(chevy,has_constant='add')\n",
    "\n",
    "model_2.predict(chevy)\n",
    "# The expected price is $19,589.60"
   ]
  },
  {
   "cell_type": "markdown",
   "metadata": {},
   "source": [
    "<h3>Q.9. What is the expected price for the Chevy mentioned above if you include all features in the prediction? Can you comment on any problems you encounter when doing this prediction?</h3>"
   ]
  },
  {
   "cell_type": "code",
   "execution_count": 14,
   "metadata": {},
   "outputs": [
    {
     "name": "stdout",
     "output_type": "stream",
     "text": [
      "0    12144.938882\n",
      "dtype: float64\n"
     ]
    }
   ],
   "source": [
    "# Commands\n",
    "chevy = pd.DataFrame([(30000,4,2,1,1,1,0,0,1,0,0,0,0,1,0,0,0)], columns=['Mileage', 'Cylinder', 'Doors', 'Cruise', 'Sound', 'Leather',\n",
    "                                                                     'Buick','Cadillac','Chevy','Pontiac','Saab','Saturn',\n",
    "                                                                     'convertible','coupe','hatchback', 'sedan', 'wagon'])\n",
    "X = cars.iloc[:,1:]\n",
    "y = cars[\"Price\"]\n",
    "\n",
    "X = sm.add_constant(X)\n",
    "chevy = sm.add_constant(chevy,has_constant='add')\n",
    "\n",
    "model_3 = sm.OLS(y,X).fit()\n",
    "\n",
    "chevy_prediction = model_3.predict(chevy)\n",
    "\n",
    "print(chevy_prediction)\n",
    "\n",
    "# Comments on problems\n",
    "# As is, it is not possible to score the Chevy on features in the model that aren't known about that observation.\n",
    "# Therefore to find an expected price for the Chevy, we need to inpute data. This is possible in this case because we know\n",
    "# some things about the Chevy from the other features - namely the make of the car and that it has 2 doors which \n",
    "# tells us it is a coupe. Using imputed values for these features the expected price of the car is $12,144.94.\n"
   ]
  }
 ],
 "metadata": {
  "kernelspec": {
   "display_name": "Python 3 [3.6]",
   "language": "python",
   "name": "python3"
  },
  "language_info": {
   "codemirror_mode": {
    "name": "ipython",
    "version": 3
   },
   "file_extension": ".py",
   "mimetype": "text/x-python",
   "name": "python",
   "nbconvert_exporter": "python",
   "pygments_lexer": "ipython3",
   "version": "3.6.4"
  }
 },
 "nbformat": 4,
 "nbformat_minor": 2
}
